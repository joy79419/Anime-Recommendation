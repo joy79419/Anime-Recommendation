{
 "cells": [
  {
   "cell_type": "code",
   "execution_count": 1,
   "metadata": {
    "scrolled": false
   },
   "outputs": [
    {
     "name": "stdout",
     "output_type": "stream",
     "text": [
      "Training ALS model...\n",
      "Training Neural Network model...\n"
     ]
    },
    {
     "data": {
      "application/vnd.jupyter.widget-view+json": {
       "model_id": "cf5d7bd2576d4e1ab5736820180856e3",
       "version_major": 2,
       "version_minor": 0
      },
      "text/plain": [
       "HBox(children=(IntProgress(value=0, max=1048575), HTML(value='')))"
      ]
     },
     "metadata": {},
     "output_type": "display_data"
    },
    {
     "name": "stdout",
     "output_type": "stream",
     "text": [
      "\n"
     ]
    },
    {
     "data": {
      "application/vnd.jupyter.widget-view+json": {
       "model_id": "332ca9af03744a71bd38ef177257eb6c",
       "version_major": 2,
       "version_minor": 0
      },
      "text/plain": [
       "HBox(children=(IntProgress(value=0, max=98018), HTML(value='')))"
      ]
     },
     "metadata": {},
     "output_type": "display_data"
    },
    {
     "name": "stdout",
     "output_type": "stream",
     "text": [
      "\n",
      "Training SVD model...\n"
     ]
    },
    {
     "data": {
      "application/vnd.jupyter.widget-view+json": {
       "model_id": "c4ab6f498eb64c3fa93fa612f66aa19a",
       "version_major": 2,
       "version_minor": 0
      },
      "text/plain": [
       "HBox(children=(IntProgress(value=0, max=1048655), HTML(value='')))"
      ]
     },
     "metadata": {},
     "output_type": "display_data"
    },
    {
     "name": "stdout",
     "output_type": "stream",
     "text": [
      "\n",
      "Training Ensemble Model...\n"
     ]
    },
    {
     "data": {
      "application/vnd.jupyter.widget-view+json": {
       "model_id": "150ac9e3489248899d1c1cbab59445aa",
       "version_major": 2,
       "version_minor": 0
      },
      "text/plain": [
       "HBox(children=(IntProgress(value=0, max=34533), HTML(value='')))"
      ]
     },
     "metadata": {},
     "output_type": "display_data"
    },
    {
     "name": "stdout",
     "output_type": "stream",
     "text": [
      "\n"
     ]
    },
    {
     "data": {
      "application/vnd.jupyter.widget-view+json": {
       "model_id": "acc41597d67b40319c4f9345e32841b1",
       "version_major": 2,
       "version_minor": 0
      },
      "text/plain": [
       "HBox(children=(IntProgress(value=0, max=2367), HTML(value='')))"
      ]
     },
     "metadata": {},
     "output_type": "display_data"
    },
    {
     "name": "stdout",
     "output_type": "stream",
     "text": [
      "\n",
      "DONE!\n"
     ]
    }
   ],
   "source": [
    "import findspark\n",
    "findspark.init()\n",
    "import pyspark\n",
    "import pandas as pd\n",
    "import numpy as np\n",
    "from tqdm import tqdm_notebook as tqdm\n",
    "from pyspark import SparkConf, SparkContext\n",
    "from pyspark.mllib.recommendation import ALS, Rating\n",
    "from collections import defaultdict\n",
    "from surprise import SVD, Dataset, Reader\n",
    "from ipywidgets import widgets, interact_manual, Layout, interact\n",
    "from IPython.display import display\n",
    "from urllib.request import urlopen\n",
    "import matplotlib.pyplot as plt\n",
    "\n",
    "# Define function \n",
    "def loadAnimeNames():\n",
    "    animeNames = {}\n",
    "    with open(\"AnimeList.csv\", encoding='ascii', errors=\"ignore\") as f:\n",
    "        for line in f:\n",
    "            fields = line.split(',')\n",
    "            animeNames[int(fields[0])] = [fields[1],fields[2]]\n",
    "    return animeNames\n",
    "\n",
    "def loadUserNames():\n",
    "    usernames = {}\n",
    "    with open(\"animelists_als2.csv\", encoding='ascii', errors=\"ignore\") as f:\n",
    "        for line in f:\n",
    "            fields = line.split(',')\n",
    "            usernames[int(fields[0])] = fields[1]\n",
    "    return usernames\n",
    "\n",
    "def parseline(line):\n",
    "    fields = line.split(',')\n",
    "    userid = fields[0]\n",
    "    username = fields[1]\n",
    "    animeid = fields[2]\n",
    "    score = fields[3]\n",
    "    return (userid, animeid, score)\n",
    "\n",
    "# pyspark set-up\n",
    "conf = SparkConf().setMaster(\"local[*]\").setAppName(\"AnimeRecommendationsALS\")\n",
    "sc = SparkContext(conf = conf)\n",
    "sc.setCheckpointDir('checkpoint')\n",
    "\n",
    "nameDict = loadAnimeNames()\n",
    "usernameDict = loadUserNames()\n",
    "\n",
    "\n",
    "# Build the recommendation model using Alternating Least Squares\n",
    "print(\"Training ALS model...\")\n",
    "lines = sc.textFile(\"animelists_als2.csv\")\n",
    "parsedlines = lines.map(parseline)\n",
    "ratings = parsedlines.map(lambda l: Rating(int(l[0]), int(l[1]), float(l[2]))).cache()\n",
    "rank = 5\n",
    "numIterations = 20\n",
    "model = ALS.train(ratings, rank, numIterations)\n",
    "\n",
    "# Build the recommendation model using Neural Network\n",
    "print(\"Training Neural Network model...\")\n",
    "nn_predict = pd.read_csv(\"NeuralNets_pred.csv\")\n",
    "\n",
    "def get_nn_top_n(predictions, n=5):\n",
    "    top_n = defaultdict(list)\n",
    "    for i in tqdm(range(len(predictions))):\n",
    "        top_n[predictions[\"username\"].iloc[i]].append((predictions[\"anime_id\"].iloc[i], predictions[\"predicted_score\"].iloc[i]))\n",
    "    for uid, user_ratings in top_n.items():\n",
    "        user_ratings.sort(key=lambda x: x[1], reverse=True)\n",
    "        top_n[uid] = [i[0] for i in user_ratings[:n]]\n",
    "    return top_n\n",
    "\n",
    "NN_recommend_dict = get_nn_top_n(nn_predict)\n",
    "\n",
    "nn_recommendationdict = {}\n",
    "for nn_username in tqdm(NN_recommend_dict.keys()):\n",
    "    for userid, username in usernameDict.items():\n",
    "        if nn_username == username:\n",
    "            nn_recommendationdict[userid] = NN_recommend_dict[username]    \n",
    "\n",
    "# Build the recommendation model using SVD\n",
    "print(\"Training SVD model...\")\n",
    "svd_df = pd.read_csv('animelists_svd2.csv')\n",
    "reader = Reader(rating_scale=(1, 10))\n",
    "svd_data = Dataset.load_from_df(svd_df, reader)\n",
    "#svd_train_data, testset = train_test_split(svd_data, test_size=.20)\n",
    "svd_data = svd_data.build_full_trainset()\n",
    "svd_test_data = svd_data.build_testset()\n",
    "algo = SVD(n_factors=5)\n",
    "algo.fit(svd_data)\n",
    "predictions = algo.test(svd_test_data)\n",
    "\n",
    "def get_svd_top_n(predictions, n=10):\n",
    "    top_n = defaultdict(list)\n",
    "    for uid, iid, true_r, est, _ in tqdm(predictions):\n",
    "        top_n[uid].append((iid, est, true_r))\n",
    "\n",
    "    for uid, user_ratings in top_n.items():\n",
    "        user_ratings.sort(key=lambda x: x[1], reverse=True)\n",
    "        top_n[uid] = user_ratings[:5]\n",
    "        \n",
    "    return top_n\n",
    "\n",
    "top_n = get_svd_top_n(predictions, n=10)\n",
    "svd_recommendationdict = defaultdict(list)\n",
    "for uid, user_ratings in top_n.items():\n",
    "    svd_recommendationdict[uid].append([iid for (iid,_,_) in user_ratings])\n",
    "\n",
    "# Ensemble\n",
    "print(\"Training Ensemble Model...\")\n",
    "svd_prediction = pd.DataFrame(predictions).iloc[:,:3]\n",
    "svd_prediction['username'] = pd.Series([usernameDict[i] for i in svd_prediction['uid']])\n",
    "als_set = ratings.map(lambda t: (t[0], t[1]))\n",
    "als_pred = model.predictAll(als_set).collect()\n",
    "als_prediction = pd.DataFrame(als_pred)\n",
    "als_prediction['username'] = pd.Series([usernameDict[i] for i in als_prediction['user']])\n",
    "nn_als_pred = nn_predict.merge(als_prediction, left_on = ['username','anime_id'], right_on = ['username','product'], how='inner')\n",
    "merged_pred = nn_als_pred.merge(svd_prediction, left_on=['username', 'anime_id'], right_on = ['username', 'iid'], how ='inner')\n",
    "merged_pred['mean_rating'] = (merged_pred['predicted_score']+merged_pred['rating']+merged_pred['r_ui'])/3\n",
    "\n",
    "def get_es_top_n(predictions, n=5):\n",
    "    top_n = defaultdict(list)\n",
    "    for i in tqdm(range(len(predictions))):\n",
    "        top_n[predictions[\"username\"].iloc[i]].append((predictions[\"anime_id\"].iloc[i], predictions[\"mean_rating\"].iloc[i]))\n",
    "    for uid, user_ratings in top_n.items():\n",
    "        user_ratings.sort(key=lambda x: x[1], reverse=True)\n",
    "        top_n[uid] = [i[0] for i in user_ratings[:n]]\n",
    "    return top_n\n",
    "\n",
    "es_recommend_dict = get_es_top_n(merged_pred)\n",
    "es_recommendationdict = {}\n",
    "for es_username in tqdm(es_recommend_dict.keys()):\n",
    "    for userid, username in usernameDict.items():\n",
    "        if es_username == username:\n",
    "            es_recommendationdict[userid] = es_recommend_dict[username]    \n",
    "\n",
    "# Clustering\n",
    "sci_fi_junkie = [30484, 820, 34599, 11577, 13125]\n",
    "lively_youth = [5114, 28977, 11061, 9969, 1]\n",
    "hot_blood_fighter = [11061, 211, 136, 813, 9130]\n",
    "no_preference = [37405, 5114, 32281, 28977, 30484]\n",
    "\n",
    "\n",
    "# Print out the recommendations based on model and print out the poster of the recommendations    \n",
    "def RecommendationSystem():\n",
    "\n",
    "    userID = int(text.value)\n",
    "    print(\"\\nTop 5 recommendations for \",usernameDict[userID],\":\\n\")\n",
    "    \n",
    "    if output_model.value == 'ALS':\n",
    "        recommendations = model.recommendProducts(userID, 5)\n",
    "        for recommendation in recommendations:\n",
    "            print (nameDict[int(recommendation[1])][0])\n",
    "\n",
    "        image_list = []\n",
    "        for user, item, rating in model.recommendProducts(userID, 5):\n",
    "            image_list.append(urlopen(nameDict[int(item)][1]))\n",
    "\n",
    "        item_list = []\n",
    "        for user, item, rating in model.recommendProducts(userID, 5):\n",
    "            item_list.append((nameDict[int(item)][0]))\n",
    "    \n",
    "    if output_model.value == 'NN':\n",
    "        itemid_list = nn_recommendationdict[userID]\n",
    "        \n",
    "        item_list=[]\n",
    "        for itemid in itemid_list:\n",
    "            item_list.append((nameDict[int(itemid)][0]))\n",
    "        \n",
    "        for recommendation in item_list:\n",
    "            print (recommendation)\n",
    "            \n",
    "        image_list = []\n",
    "        for itemid in itemid_list:\n",
    "            image_list.append(urlopen(nameDict[int(itemid)][1]))       \n",
    "    \n",
    "    if output_model.value == 'SVD':\n",
    "        itemid_list = svd_recommendationdict[userID][0]\n",
    "        \n",
    "        item_list=[]\n",
    "        for itemid in itemid_list:\n",
    "            item_list.append((nameDict[int(itemid)][0]))\n",
    "        \n",
    "        for recommendation in item_list:\n",
    "            print (recommendation)\n",
    "            \n",
    "        image_list = []\n",
    "        for itemid in itemid_list:\n",
    "            image_list.append(urlopen(nameDict[int(itemid)][1]))\n",
    "    \n",
    "    if output_model.value == 'Ensemble':\n",
    "        itemid_list = es_recommendationdict[userID]\n",
    "        \n",
    "        item_list=[]\n",
    "        for itemid in itemid_list:\n",
    "            item_list.append((nameDict[int(itemid)][0]))\n",
    "        \n",
    "        for recommendation in item_list:\n",
    "            print (recommendation)\n",
    "            \n",
    "        image_list = []\n",
    "        for itemid in itemid_list:\n",
    "            image_list.append(urlopen(nameDict[int(itemid)][1]))  \n",
    "    \n",
    "    final_list = list(zip(item_list,image_list))\n",
    "\n",
    "    fig, (ax0,ax1,ax2,ax3,ax4) = plt.subplots(1,5,figsize=(30,30))\n",
    "    for i, (item,img) in enumerate(final_list):\n",
    "        f = plt.imread(img,format='jpg')\n",
    "        eval('ax{}'.format(i)).imshow(f)\n",
    "        eval('ax{}'.format(i)).set_title(item)\n",
    "    plt.show()\n",
    "\n",
    "\n",
    "def ClusteringSystem():\n",
    "\n",
    "    print(\"\\nTop 5 recommendations for:\",output_model_c.value, \"\\n\")\n",
    "    \n",
    "    if output_model_c.value == 'Sci-Fi Junkies':\n",
    "        c_itemid_list = sci_fi_junkie\n",
    "        \n",
    "        c_item_list=[]\n",
    "        for itemid in c_itemid_list:\n",
    "            c_item_list.append((nameDict[int(itemid)][0]))\n",
    "        \n",
    "        for recommendation in c_item_list:\n",
    "            print (recommendation)\n",
    "            \n",
    "        c_image_list = []\n",
    "        for itemid in c_itemid_list:\n",
    "            c_image_list.append(urlopen(nameDict[int(itemid)][1]))       \n",
    "    \n",
    "    if output_model_c.value == 'Lively Youths':\n",
    "        c_itemid_list = lively_youth\n",
    "        \n",
    "        c_item_list=[]\n",
    "        for itemid in c_itemid_list:\n",
    "            c_item_list.append((nameDict[int(itemid)][0]))\n",
    "        \n",
    "        for recommendation in c_item_list:\n",
    "            print (recommendation)\n",
    "            \n",
    "        c_image_list = []\n",
    "        for itemid in c_itemid_list:\n",
    "            c_image_list.append(urlopen(nameDict[int(itemid)][1]))\n",
    "    \n",
    "    if output_model_c.value == 'Hot Blood Fighters':\n",
    "        c_itemid_list = hot_blood_fighter\n",
    "        \n",
    "        c_item_list=[]\n",
    "        for itemid in c_itemid_list:\n",
    "            c_item_list.append((nameDict[int(itemid)][0]))\n",
    "        \n",
    "        for recommendation in c_item_list:\n",
    "            print (recommendation)\n",
    "            \n",
    "        c_image_list = []\n",
    "        for itemid in c_itemid_list:\n",
    "            c_image_list.append(urlopen(nameDict[int(itemid)][1]))\n",
    "            \n",
    "    if output_model_c.value == 'No Preference':\n",
    "        c_itemid_list = no_preference\n",
    "        \n",
    "        c_item_list=[]\n",
    "        for itemid in c_itemid_list:\n",
    "            c_item_list.append((nameDict[int(itemid)][0]))\n",
    "        \n",
    "        for recommendation in c_item_list:\n",
    "            print (recommendation)\n",
    "            \n",
    "        c_image_list = []\n",
    "        for itemid in c_itemid_list:\n",
    "            c_image_list.append(urlopen(nameDict[int(itemid)][1]))  \n",
    "    \n",
    "    c_final_list = list(zip(c_item_list,c_image_list))\n",
    "\n",
    "    fig, (ax0,ax1,ax2,ax3,ax4) = plt.subplots(1,5,figsize=(30,30))\n",
    "    for i, (item,img) in enumerate(c_final_list):\n",
    "        f = plt.imread(img,format='jpg')\n",
    "        eval('ax{}'.format(i)).imshow(f)\n",
    "        eval('ax{}'.format(i)).set_title(item)\n",
    "    plt.show()\n",
    "\n",
    "\n",
    "print(\"DONE!\")"
   ]
  },
  {
   "cell_type": "code",
   "execution_count": null,
   "metadata": {},
   "outputs": [],
   "source": []
  },
  {
   "cell_type": "code",
   "execution_count": null,
   "metadata": {},
   "outputs": [],
   "source": []
  },
  {
   "cell_type": "code",
   "execution_count": null,
   "metadata": {},
   "outputs": [],
   "source": []
  },
  {
   "cell_type": "code",
   "execution_count": null,
   "metadata": {},
   "outputs": [],
   "source": []
  },
  {
   "cell_type": "code",
   "execution_count": null,
   "metadata": {},
   "outputs": [],
   "source": []
  },
  {
   "cell_type": "code",
   "execution_count": 12,
   "metadata": {},
   "outputs": [
    {
     "name": "stdout",
     "output_type": "stream",
     "text": [
      "Choose the character that fit you the most!\n"
     ]
    },
    {
     "data": {
      "application/vnd.jupyter.widget-view+json": {
       "model_id": "330c306a866547b3a7ac94b0b32459e7",
       "version_major": 2,
       "version_minor": 0
      },
      "text/plain": [
       "interactive(children=(Dropdown(description='Clustering', options=('Sci-Fi Junkies', 'Lively Youths', 'Hot Bloo…"
      ]
     },
     "metadata": {},
     "output_type": "display_data"
    },
    {
     "data": {
      "application/vnd.jupyter.widget-view+json": {
       "model_id": "acf8e2ca31ac45d4988ee195f205ebca",
       "version_major": 2,
       "version_minor": 0
      },
      "text/plain": [
       "interactive(children=(Button(description='Run', style=ButtonStyle()), Output()), _dom_classes=('widget-interac…"
      ]
     },
     "metadata": {},
     "output_type": "display_data"
    }
   ],
   "source": [
    "def f1(Clustering):\n",
    "    output_model_c.value = str(Clustering)\n",
    "\n",
    "print(\"Choose the character that fit you the most!\")\n",
    "output_model_c = widgets.Text()\n",
    "interact(f1, Clustering=['Sci-Fi Junkies','Lively Youths','Hot Blood Fighters','No Preference'])\n",
    "interact_manual.opts['manual_name'] = 'Run'\n",
    "bt = interact_manual(ClusteringSystem)"
   ]
  },
  {
   "cell_type": "code",
   "execution_count": 10,
   "metadata": {},
   "outputs": [
    {
     "name": "stdout",
     "output_type": "stream",
     "text": [
      "Choose the model you want to use\n"
     ]
    },
    {
     "data": {
      "application/vnd.jupyter.widget-view+json": {
       "model_id": "a86cc3d88b0e4d21aad0bbcdd2fc47a7",
       "version_major": 2,
       "version_minor": 0
      },
      "text/plain": [
       "interactive(children=(Dropdown(description='Model', options=('ALS', 'SVD', 'NN', 'Ensemble'), value='ALS'), Ou…"
      ]
     },
     "metadata": {},
     "output_type": "display_data"
    },
    {
     "data": {
      "text/plain": [
       "'Enter user id:'"
      ]
     },
     "metadata": {},
     "output_type": "display_data"
    },
    {
     "data": {
      "application/vnd.jupyter.widget-view+json": {
       "model_id": "22239dd7451c4c29a51bc7ef16c687b9",
       "version_major": 2,
       "version_minor": 0
      },
      "text/plain": [
       "Text(value='')"
      ]
     },
     "metadata": {},
     "output_type": "display_data"
    },
    {
     "data": {
      "application/vnd.jupyter.widget-view+json": {
       "model_id": "ab59136b58e34c41829fee801096bf37",
       "version_major": 2,
       "version_minor": 0
      },
      "text/plain": [
       "interactive(children=(Button(description='Run', style=ButtonStyle()), Output()), _dom_classes=('widget-interac…"
      ]
     },
     "metadata": {},
     "output_type": "display_data"
    }
   ],
   "source": [
    "def f(Model):\n",
    "    output_model.value = str(Model)\n",
    "\n",
    "print(\"Choose the model you want to use\")\n",
    "output_model = widgets.Text()\n",
    "interact(f, Model=['ALS','SVD','NN','Ensemble'])\n",
    "text=widgets.Text()\n",
    "display(\"Enter user id:\",text)\n",
    "interact_manual.opts['manual_name'] = 'Run'\n",
    "bt = interact_manual(RecommendationSystem)"
   ]
  },
  {
   "cell_type": "code",
   "execution_count": null,
   "metadata": {},
   "outputs": [],
   "source": []
  },
  {
   "cell_type": "code",
   "execution_count": null,
   "metadata": {},
   "outputs": [],
   "source": []
  },
  {
   "cell_type": "code",
   "execution_count": null,
   "metadata": {},
   "outputs": [],
   "source": []
  },
  {
   "cell_type": "code",
   "execution_count": null,
   "metadata": {},
   "outputs": [],
   "source": []
  },
  {
   "cell_type": "code",
   "execution_count": null,
   "metadata": {},
   "outputs": [],
   "source": []
  },
  {
   "cell_type": "code",
   "execution_count": null,
   "metadata": {},
   "outputs": [],
   "source": []
  },
  {
   "cell_type": "code",
   "execution_count": null,
   "metadata": {},
   "outputs": [],
   "source": []
  },
  {
   "cell_type": "code",
   "execution_count": null,
   "metadata": {},
   "outputs": [],
   "source": [
    "# 107016 kirti\n",
    "# 107017 Anurag\n",
    "# 107018 Helena\n",
    "# 107019 Jason\n",
    "\n",
    "# 1287"
   ]
  },
  {
   "cell_type": "code",
   "execution_count": null,
   "metadata": {},
   "outputs": [],
   "source": []
  },
  {
   "cell_type": "code",
   "execution_count": null,
   "metadata": {},
   "outputs": [],
   "source": []
  },
  {
   "cell_type": "code",
   "execution_count": null,
   "metadata": {},
   "outputs": [],
   "source": []
  },
  {
   "cell_type": "code",
   "execution_count": null,
   "metadata": {},
   "outputs": [],
   "source": []
  },
  {
   "cell_type": "code",
   "execution_count": 4,
   "metadata": {},
   "outputs": [
    {
     "data": {
      "text/plain": [
       "1961    5383\n",
       "2314    4268\n",
       "1930    4249\n",
       "2341    4032\n",
       "1323    3571\n",
       "4       3366\n",
       "1466    3043\n",
       "1287    2970\n",
       "105     2922\n",
       "1767    2828\n",
       "467     2816\n",
       "542     2531\n",
       "1405    2458\n",
       "1825    2445\n",
       "2357    2441\n",
       "1573    2259\n",
       "832     2225\n",
       "2052    2088\n",
       "447     2062\n",
       "2325    2055\n",
       "Name: user_id, dtype: int64"
      ]
     },
     "execution_count": 4,
     "metadata": {},
     "output_type": "execute_result"
    }
   ],
   "source": [
    "svd_df['user_id'].value_counts()[:20]"
   ]
  },
  {
   "cell_type": "code",
   "execution_count": 34,
   "metadata": {},
   "outputs": [],
   "source": [
    "# def loadAnimeNames():\n",
    "#     animeNames = {}\n",
    "#     with open(\"AnimeList.csv\", encoding='ascii', errors=\"ignore\") as f:\n",
    "#         for line in f:\n",
    "#             fields = line.split(',')\n",
    "#             animeNames[int(fields[0])] = [fields[1],fields[2]]\n",
    "#     return animeNames\n",
    "# nameDict = loadAnimeNames()"
   ]
  },
  {
   "cell_type": "code",
   "execution_count": 25,
   "metadata": {},
   "outputs": [],
   "source": [
    "sc.stop()"
   ]
  },
  {
   "cell_type": "code",
   "execution_count": null,
   "metadata": {},
   "outputs": [],
   "source": []
  },
  {
   "cell_type": "code",
   "execution_count": null,
   "metadata": {},
   "outputs": [],
   "source": []
  }
 ],
 "metadata": {
  "kernelspec": {
   "display_name": "Python 3",
   "language": "python",
   "name": "python3"
  },
  "language_info": {
   "codemirror_mode": {
    "name": "ipython",
    "version": 3
   },
   "file_extension": ".py",
   "mimetype": "text/x-python",
   "name": "python",
   "nbconvert_exporter": "python",
   "pygments_lexer": "ipython3",
   "version": "3.7.0"
  }
 },
 "nbformat": 4,
 "nbformat_minor": 2
}
